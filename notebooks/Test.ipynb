{
 "cells": [
  {
   "cell_type": "code",
   "execution_count": 1,
   "metadata": {},
   "outputs": [
    {
     "name": "stdout",
     "output_type": "stream",
     "text": [
      "5\n"
     ]
    }
   ],
   "source": [
    "from pyspark import SparkContext, SparkConf\n",
    "conf = SparkConf().setAppName('spark-app') \\\n",
    "        .setMaster('spark://spark-master:7077') \\\n",
    "        .set('spark.eventLog.enabled', True)\n",
    "sc = SparkContext(conf=conf)\n",
    "rdd = sc.parallelize([1, 2, 3, 4, 5])\n",
    "print(f\"Result: {rdd.count()}\")"
   ]
  }
 ],
 "metadata": {
  "kernelspec": {
   "display_name": "Python 3",
   "language": "python",
   "name": "python3"
  },
  "language_info": {
   "codemirror_mode": {
    "name": "ipython",
    "version": 3
   },
   "file_extension": ".py",
   "mimetype": "text/x-python",
   "name": "python",
   "nbconvert_exporter": "python",
   "pygments_lexer": "ipython3",
   "version": "3.11.1"
  },
  "vscode": {
   "interpreter": {
    "hash": "cf4c0e763b14ba7598bc55cf77009912506d0d00af8b624dfdddbb94a8781676"
   }
  }
 },
 "nbformat": 4,
 "nbformat_minor": 2
}
